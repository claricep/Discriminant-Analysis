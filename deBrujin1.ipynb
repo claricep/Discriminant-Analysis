{
 "cells": [
  {
   "cell_type": "code",
   "execution_count": 5,
   "metadata": {},
   "outputs": [
    {
     "name": "stdout",
     "output_type": "stream",
     "text": [
      "[0]\n",
      "[0]\n",
      "[0]\n",
      "[0]\n",
      "[[0.50921021 0.49078979]]\n",
      "[[0.5178699 0.4821301]]\n",
      "[[0.51851791 0.48148209]]\n",
      "[[0.52304491 0.47695509]]\n"
     ]
    }
   ],
   "source": [
    "import numpy as np\n",
    "from sklearn.discriminant_analysis import LinearDiscriminantAnalysis\n",
    "import operator\n",
    "# file = open()\n",
    "X = []\n",
    "y = []   #decoy, target\n",
    "# Lines = file.readlines()\n",
    "count = 0\n",
    "with open(\"/Users/claricepark/Discriminant-Analysis/20220727_TypeAcomplex_Elastase_S2-A3_1_10495_nopd.sqt\") as fp:\n",
    "    while True:                \n",
    "        line = fp.readline()\n",
    "        if not line:\n",
    "            break\n",
    "        \n",
    "        if line.startswith(\"H\\t\"):\n",
    "            continue     \n",
    "                \n",
    "        sline = line.strip()                \n",
    "        count += 1\n",
    "        # print(sline)          \n",
    "        # if(count>200):\n",
    "        #     break\n",
    "        \n",
    "        decoy_label = 1\n",
    "        if line.startswith(\"M\\t1\"):    \n",
    "            \n",
    "            # print (line.strip())  \n",
    "            xcorr = line.split(\"\\t\")[5]\n",
    "            # print(xcorr)\n",
    "            \n",
    "            lline = fp.readline()\n",
    "            \n",
    "            if (lline.split(\"\\t\")[1].startswith(\"Reverse\")):                \n",
    "               decoy_label = 0\n",
    "            # print (lline.strip())\n",
    "            # print (decoy_label)   \n",
    "            # print (\"l line\\t\", lline.split(\"\\t\")[1])\n",
    "            while True:\n",
    "                m2line = fp.readline()\n",
    "                if(m2line.startswith(\"M\\t2\")):\n",
    "                    break;\n",
    "                \n",
    "            # m2line = fp.readline()\n",
    "            # print (\"m2  line\\t\", m2line.strip())\n",
    "            deltacn = m2line.split(\"\\t\")[4]\n",
    "            \n",
    "            # print(\"delta cn\\t\", deltacn)\n",
    "            X.append([xcorr, deltacn])\n",
    "            y.append(decoy_label)\n",
    "            \n",
    "        \n",
    "# print (X)\n",
    "# print (y)\n",
    "clf = LinearDiscriminantAnalysis()\n",
    "clf.fit(X, y)\n",
    "print(clf.predict([[3.2, 0.001]]))\n",
    "print(clf.predict([[1.2, 0.0001]]))\n",
    "print(clf.predict([[1.05, 0.0001]]))\n",
    "print(clf.predict([[0.002, 0.00001]]))\n",
    "\n",
    "print(clf.predict_proba([[3.2, 0.001]]))\n",
    "print(clf.predict_proba([[1.2, 0.0001]]))\n",
    "print(clf.predict_proba([[1.05, 0.0001]]))\n",
    "print(clf.predict_proba([[0.002, 0.00001]]))"
   ]
  }
 ],
 "metadata": {
  "interpreter": {
   "hash": "a2ba488d8503106d2125385731b212460bbeaa6be7bcebeaf0d786443d20e5e1"
  },
  "kernelspec": {
   "display_name": "Python 3.9.12 ('base')",
   "language": "python",
   "name": "python3"
  },
  "language_info": {
   "codemirror_mode": {
    "name": "ipython",
    "version": 3
   },
   "file_extension": ".py",
   "mimetype": "text/x-python",
   "name": "python",
   "nbconvert_exporter": "python",
   "pygments_lexer": "ipython3",
   "version": "3.9.12"
  },
  "orig_nbformat": 4
 },
 "nbformat": 4,
 "nbformat_minor": 2
}
