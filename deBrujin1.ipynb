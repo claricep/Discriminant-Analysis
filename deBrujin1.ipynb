{
 "cells": [
  {
   "cell_type": "code",
   "execution_count": null,
   "metadata": {},
   "outputs": [],
   "source": [
    "import numpy as np\n",
    "from sklearn.discriminant_analysis import LinearDiscriminantAnalysis\n",
    "import operator\n",
    "\n",
    "file = open('/Users/claricepark/data/Discriminant-Analysis/20220727_TypeAcomplex_Elastase_S2-A3_1_10495_nopd.sqt')\n",
    "\n",
    "X = []\n",
    "y = []   #decoy, target\n",
    "Lines = file.readlines()\n",
    "count = 0\n",
    "for line in Lines:\n",
    "    if line.startswith(\"M\"):\n",
    "        count+=1\n",
    "        match =(line.split())\n",
    "        if count % 2 != 0:\n",
    "            #print(match[5])\n",
    "            temp = match[5]\n",
    "        else:\n",
    "            temp = match[4]\n",
    "        X.append(temp)\n",
    "\n",
    "    if count % 2 != 0:\n",
    "        if line.startswith(\"L\"):\n",
    "            tab =(line.split())\n",
    "            if tab[1].startswith(\"Reversed\"):\n",
    "                y.append(0)\n",
    "            else:\n",
    "                y.append(1)\n",
    "\n",
    "nest = [X[i * 2:(i + 1) * 2] for i in range((len(X) + 2 - 1) // 2 )]\n",
    "arrX = np.array((nest))\n",
    "arrY = np.array(y)\n",
    "print (arrX)\n",
    "\n",
    "# clf = LinearDiscriminantAnalysis()\n",
    "# clf.fit(nest, y)\n",
    "# LinearDiscriminantAnalysis()\n",
    "# pred = clf.predict_proba(1)\n",
    "# print(pred)\n",
    "\n",
    "        #sort \n",
    "#s = sorted(s, key = operator.itemgetter(1, 2))\n",
    "\n",
    "# decimalnumber = [2.01, 2.00, 3.67, 3.28, 1.68]\n",
    "# decimalnumber.sort(reverse=True)\n",
    "# print(decimalnumber)\n"
   ]
  }
 ],
 "metadata": {
  "language_info": {
   "name": "python"
  },
  "orig_nbformat": 4
 },
 "nbformat": 4,
 "nbformat_minor": 2
}
